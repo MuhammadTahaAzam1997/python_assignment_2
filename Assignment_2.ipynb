{
 "cells": [
  {
   "cell_type": "markdown",
   "metadata": {},
   "source": [
    "<h3>Q no 1:  Write a python program to find number of occurrences of given number in a list with out using built-in methods</h3>\n",
    "<h4>**1 generate a list of some random num which is repeated again and again</h4>\n",
    "<h4>**2 take user input any number</h4>\n",
    "<h4>**3 find the number of occurrences of that num in your list</h4>\n",
    "<h4>**4 print some message to user with that result</h4>"
   ]
  },
  {
   "cell_type": "code",
   "execution_count": 65,
   "metadata": {},
   "outputs": [],
   "source": [
    "import random\n",
    "num=[]\n",
    "for i in range(50):\n",
    "    num.append(random.randint(1,50))\n",
    "    "
   ]
  },
  {
   "cell_type": "code",
   "execution_count": 67,
   "metadata": {},
   "outputs": [
    {
     "name": "stdout",
     "output_type": "stream",
     "text": [
      "Enter any number5\n",
      "[32, 5, 42, 22, 50, 36, 40, 31, 17, 43, 19, 3, 16, 18, 2, 26, 21, 25, 30, 29, 48, 23, 4, 18, 9, 15, 38, 4, 44, 36, 2, 36, 43, 12, 33, 25, 40, 43, 39, 10, 6, 30, 24, 49, 35, 9, 20, 46, 20, 15] \n",
      "\n",
      "5  is  1  times in the list\n"
     ]
    }
   ],
   "source": [
    "u=int(input(\"Enter any number\"))\n",
    "print(num,\"\\n\")\n",
    "print(u,\" is \",num.count(u),\" times in the list\");\n"
   ]
  },
  {
   "cell_type": "markdown",
   "metadata": {},
   "source": [
    "<h3>Q no 2:   [\"www.zframez.com\", \"www.wikipedia.org\", \"www.asp.net\", \"www.abcd.in\"]\n",
    "<br/><br/><br/><br/><br/>\n",
    "Write a python program to print website suffixes (com , org , net ,in) from this list\n",
    "</h3>"
   ]
  },
  {
   "cell_type": "code",
   "execution_count": 73,
   "metadata": {},
   "outputs": [
    {
     "name": "stdout",
     "output_type": "stream",
     "text": [
      "com\n",
      "org\n",
      "net\n",
      "in\n"
     ]
    }
   ],
   "source": [
    "a=[\"www.zframez.com\", \"www.wikipedia.org\", \"www.asp.net\", \"www.abcd.in\"] \n",
    "for x in a:\n",
    "    suffixes = x.split(\".\") \n",
    "    print(suffixes[-1])\n"
   ]
  },
  {
   "cell_type": "code",
   "execution_count": null,
   "metadata": {},
   "outputs": [],
   "source": []
  },
  {
   "cell_type": "markdown",
   "metadata": {},
   "source": [
    "<h3> Q no 3 : Write a program which can compute the factorial of a given numbers.</h3>\n",
    "<br/>\n",
    "<br/>\n",
    "<h4>**1 first take user input any number</h4>\n",
    "<h4>**2 calculate factorial of that input and then print the result to user</h4>"
   ]
  },
  {
   "cell_type": "code",
   "execution_count": null,
   "metadata": {},
   "outputs": [],
   "source": []
  },
  {
   "cell_type": "code",
   "execution_count": 12,
   "metadata": {},
   "outputs": [
    {
     "name": "stdout",
     "output_type": "stream",
     "text": [
      "Enter any number: 4\n",
      "24\n"
     ]
    }
   ],
   "source": [
    "num=int(input(\"Enter any number: \"))\n",
    "product=1\n",
    "\n",
    "for i in range(num):\n",
    "    product = product * (i+1)\n",
    "  \n",
    "\n",
    "\n",
    "print(product)\n"
   ]
  },
  {
   "cell_type": "code",
   "execution_count": null,
   "metadata": {},
   "outputs": [],
   "source": []
  },
  {
   "cell_type": "code",
   "execution_count": null,
   "metadata": {},
   "outputs": [],
   "source": []
  },
  {
   "cell_type": "markdown",
   "metadata": {},
   "source": [
    "<h3>Q 4 (a) :  If you could invite anyone, living or deceased, to dinner, who\n",
    "would you invite? Make a list that includes at least three people you’d like to\n",
    "invite to dinner. Then use your list to print a message to each person, inviting\n",
    "them to dinner.</h3>"
   ]
  },
  {
   "cell_type": "code",
   "execution_count": 25,
   "metadata": {},
   "outputs": [
    {
     "name": "stdout",
     "output_type": "stream",
     "text": [
      "Muhammad  you are invited on dinner\n",
      "Taha  you are invited on dinner\n",
      "Azam  you are invited on dinner\n"
     ]
    }
   ],
   "source": [
    "friends=[\"Muhammad\",\"Taha\",\"Azam\"]\n",
    "for i in friends:\n",
    "    print(i,\" you are invited on dinner\")"
   ]
  },
  {
   "cell_type": "code",
   "execution_count": null,
   "metadata": {},
   "outputs": [],
   "source": []
  },
  {
   "cell_type": "code",
   "execution_count": null,
   "metadata": {},
   "outputs": [],
   "source": []
  },
  {
   "cell_type": "markdown",
   "metadata": {},
   "source": [
    "<h3>Q 4 (b) : You just heard that one of your guests can’t make the\n",
    "dinner, so you need to send out a new set of invitations. You’ll have to think of\n",
    "someone else to invite.<br/></br><br/>\n",
    "•\t Start with your program from Q 4 (a). Add a print statement at the\n",
    "end of your program stating the name of the guest who can’t make it.<br/></br><br/>\n",
    "•\t Modify your list, replacing the name of the guest who can’t make it with\n",
    "the name of the new person you are inviting.<br/></br><br/>\n",
    "•\t Print a second set of invitation messages, one for each person who is still\n",
    "in your list.<br/></br><br/></h3>"
   ]
  },
  {
   "cell_type": "code",
   "execution_count": 38,
   "metadata": {},
   "outputs": [
    {
     "name": "stdout",
     "output_type": "stream",
     "text": [
      "Muhammad  you are invited on dinner\n",
      "Taha  you are invited on dinner\n",
      "Azam  you are invited on dinner\n",
      "\n",
      " Taha  can not make a dinner \n",
      "\n",
      "Muhammad  you are invited on dinner\n",
      "bilal  you are invited on dinner\n",
      "Azam  you are invited on dinner\n"
     ]
    }
   ],
   "source": [
    "friends=[\"Muhammad\",\"Taha\",\"Azam\"]\n",
    "for i in friends:\n",
    "    print(i,\" you are invited on dinner\")\n",
    "    \n",
    "print(\"\\n\",friends[1],\" can not make a dinner\",\"\\n\")\n",
    "\n",
    "friends[friends.index(\"Taha\")] = \"bilal\"\n",
    "\n",
    "for i in friends:\n",
    "    print(i,\" you are invited on dinner\")"
   ]
  },
  {
   "cell_type": "code",
   "execution_count": null,
   "metadata": {},
   "outputs": [],
   "source": []
  },
  {
   "cell_type": "code",
   "execution_count": null,
   "metadata": {},
   "outputs": [],
   "source": []
  },
  {
   "cell_type": "markdown",
   "metadata": {},
   "source": [
    "<h3>Q 4 (c) : You just found a bigger dinner table, so now more space is\n",
    "available. Think of three more guests to invite to dinner.<br/></br><br/>\n",
    "•\t Start with your program from Q 4 (a) and (b) Add a print\n",
    "statement to the end of your program informing people that you found a\n",
    "bigger dinner table.<br/></br><br/>\n",
    "•\t Use insert() to add one new guest to the beginning of your list.<br/></br><br/>\n",
    "•\t Use insert() to add one new guest to the middle of your list.<br/></br><br/>\n",
    "•\t Use append() to add one new guest to the end of your list.<br/></br><br/>\n",
    "•\t Print a new set of invitation messages, one for each person in your list.<br/></br><br/></h3>"
   ]
  },
  {
   "cell_type": "code",
   "execution_count": 48,
   "metadata": {},
   "outputs": [
    {
     "name": "stdout",
     "output_type": "stream",
     "text": [
      "Muhammad  you are invited on dinner\n",
      "Taha  you are invited on dinner\n",
      "Azam  you are invited on dinner\n",
      "Taha sorry you will be invited next time \n",
      "\n"
     ]
    }
   ],
   "source": [
    "friends=[\"Muhammad\",\"Taha\",\"Azam\"]\n",
    "for i in friends:\n",
    "    print(i,\" you are invited on dinner\")\n",
    "    \n",
    "for i in friends:\n",
    "    if i == \"Taha\":\n",
    "        print(i,\"sorry you will be invited next time\",\"\\n\")\n",
    "        \n",
    "friends[friends.index(\"Taha\")] = \"bilal\"\n"
   ]
  },
  {
   "cell_type": "code",
   "execution_count": 49,
   "metadata": {},
   "outputs": [
    {
     "name": "stdout",
     "output_type": "stream",
     "text": [
      "Muhammad  you are invited on dinner\n",
      "bilal  you are invited on dinner\n",
      "Azam  you are invited on dinner\n"
     ]
    }
   ],
   "source": [
    "\n",
    "for i in friends:\n",
    "    print(i,\" you are invited on dinner\")\n",
    " "
   ]
  },
  {
   "cell_type": "code",
   "execution_count": 50,
   "metadata": {},
   "outputs": [
    {
     "name": "stdout",
     "output_type": "stream",
     "text": [
      "\n",
      "New dinner table found! More space are available\n",
      "\n",
      "Jahanzaib  You are invited on dinner\n",
      "Muhammad  You are invited on dinner\n",
      "Afzal  You are invited on dinner\n",
      "bilal  You are invited on dinner\n",
      "Azam  You are invited on dinner\n",
      "shazhad  You are invited on dinner\n"
     ]
    }
   ],
   "source": [
    "   \n",
    "print(\"\\nNew dinner table found! More space are available\\n\")\n",
    "\n",
    "friends.insert(0,\"Jahanzaib\")\n",
    "friends.insert(2,\"Afzal\")\n",
    "friends.append(\"shazhad\")\n",
    "\n",
    "for i in friends:\n",
    "    print(i,\" You are invited on dinner\")"
   ]
  },
  {
   "cell_type": "markdown",
   "metadata": {},
   "source": [
    "<h5> Q 5 : Here you have some data in variable below, your task is to make a list of specific word Surah then print the list and length of list</h5>\n"
   ]
  },
  {
   "cell_type": "code",
   "execution_count": null,
   "metadata": {},
   "outputs": [],
   "source": [
    "data = \"Sura I Who believe in the Unseen, Sura Are steadfast in prayer, And spend Sura out of what We Have provided for them;\"\n"
   ]
  },
  {
   "cell_type": "code",
   "execution_count": 78,
   "metadata": {},
   "outputs": [
    {
     "name": "stdout",
     "output_type": "stream",
     "text": [
      "['Sura', 'Sura', 'Sura'] length is 3\n"
     ]
    }
   ],
   "source": [
    "data = \"Sura I Who believe in the Unseen, Sura Are steadfast in prayer, And spend Sura out of what We Have provided for them;\"\n",
    "\n",
    "letter = data.split()\n",
    "\n",
    "surah = []\n",
    "\n",
    "for i in letter:\n",
    "    if i == 'Sura':\n",
    "        surah.append(i)\n",
    "        \n",
    "\n",
    "print(surah, \"length is\",len(surah))"
   ]
  },
  {
   "cell_type": "code",
   "execution_count": null,
   "metadata": {},
   "outputs": [],
   "source": []
  }
 ],
 "metadata": {
  "kernelspec": {
   "display_name": "Python 3",
   "language": "python",
   "name": "python3"
  },
  "language_info": {
   "codemirror_mode": {
    "name": "ipython",
    "version": 3
   },
   "file_extension": ".py",
   "mimetype": "text/x-python",
   "name": "python",
   "nbconvert_exporter": "python",
   "pygments_lexer": "ipython3",
   "version": "3.6.5"
  }
 },
 "nbformat": 4,
 "nbformat_minor": 2
}
